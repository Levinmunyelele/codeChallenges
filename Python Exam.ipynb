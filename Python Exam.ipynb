{
 "cells": [
  {
   "cell_type": "code",
   "execution_count": 23,
   "id": "4e1d42da",
   "metadata": {},
   "outputs": [],
   "source": [
    "import pandas as pd\n",
    "import seaborn as sns\n",
    "import numpy as np\n",
    "import matplotlib.pyplot as plt"
   ]
  },
  {
   "cell_type": "code",
   "execution_count": 3,
   "id": "ca731ddf",
   "metadata": {},
   "outputs": [
    {
     "data": {
      "text/html": [
       "<div>\n",
       "<style scoped>\n",
       "    .dataframe tbody tr th:only-of-type {\n",
       "        vertical-align: middle;\n",
       "    }\n",
       "\n",
       "    .dataframe tbody tr th {\n",
       "        vertical-align: top;\n",
       "    }\n",
       "\n",
       "    .dataframe thead th {\n",
       "        text-align: right;\n",
       "    }\n",
       "</style>\n",
       "<table border=\"1\" class=\"dataframe\">\n",
       "  <thead>\n",
       "    <tr style=\"text-align: right;\">\n",
       "      <th></th>\n",
       "      <th>Field_ID</th>\n",
       "      <th>Elevation</th>\n",
       "      <th>Rainfall</th>\n",
       "      <th>Min_temperature_C</th>\n",
       "      <th>Max_temperature_C</th>\n",
       "      <th>pH</th>\n",
       "      <th>Pollution_level</th>\n",
       "      <th>Plot_size</th>\n",
       "      <th>Annual_yield</th>\n",
       "      <th>Crop_type</th>\n",
       "    </tr>\n",
       "  </thead>\n",
       "  <tbody>\n",
       "    <tr>\n",
       "      <th>0</th>\n",
       "      <td>1162</td>\n",
       "      <td>494.95615</td>\n",
       "      <td>1507.6</td>\n",
       "      <td>-5.4</td>\n",
       "      <td>31.0</td>\n",
       "      <td>6.859436</td>\n",
       "      <td>0.007034</td>\n",
       "      <td>3.6</td>\n",
       "      <td>1.617421</td>\n",
       "      <td>coffee</td>\n",
       "    </tr>\n",
       "    <tr>\n",
       "      <th>1</th>\n",
       "      <td>5108</td>\n",
       "      <td>663.73390</td>\n",
       "      <td>581.0</td>\n",
       "      <td>-4.7</td>\n",
       "      <td>30.9</td>\n",
       "      <td>5.603219</td>\n",
       "      <td>0.289643</td>\n",
       "      <td>4.2</td>\n",
       "      <td>2.532497</td>\n",
       "      <td>potato</td>\n",
       "    </tr>\n",
       "    <tr>\n",
       "      <th>2</th>\n",
       "      <td>3504</td>\n",
       "      <td>396.87990</td>\n",
       "      <td>1715.1</td>\n",
       "      <td>-6.1</td>\n",
       "      <td>31.7</td>\n",
       "      <td>5.774116</td>\n",
       "      <td>0.000409</td>\n",
       "      <td>2.6</td>\n",
       "      <td>1.262207</td>\n",
       "      <td>banana</td>\n",
       "    </tr>\n",
       "    <tr>\n",
       "      <th>3</th>\n",
       "      <td>5351</td>\n",
       "      <td>594.80370</td>\n",
       "      <td>1748.0</td>\n",
       "      <td>-4.3</td>\n",
       "      <td>33.6</td>\n",
       "      <td>6.477415</td>\n",
       "      <td>0.088777</td>\n",
       "      <td>7.9</td>\n",
       "      <td>4.351564</td>\n",
       "      <td>wheat</td>\n",
       "    </tr>\n",
       "    <tr>\n",
       "      <th>4</th>\n",
       "      <td>905</td>\n",
       "      <td>609.49800</td>\n",
       "      <td>1395.8</td>\n",
       "      <td>-4.5</td>\n",
       "      <td>31.3</td>\n",
       "      <td>5.419586</td>\n",
       "      <td>0.050023</td>\n",
       "      <td>10.8</td>\n",
       "      <td>5.034791</td>\n",
       "      <td>cassava</td>\n",
       "    </tr>\n",
       "  </tbody>\n",
       "</table>\n",
       "</div>"
      ],
      "text/plain": [
       "   Field_ID  Elevation  Rainfall  Min_temperature_C  Max_temperature_C  \\\n",
       "0      1162  494.95615    1507.6               -5.4               31.0   \n",
       "1      5108  663.73390     581.0               -4.7               30.9   \n",
       "2      3504  396.87990    1715.1               -6.1               31.7   \n",
       "3      5351  594.80370    1748.0               -4.3               33.6   \n",
       "4       905  609.49800    1395.8               -4.5               31.3   \n",
       "\n",
       "         pH  Pollution_level  Plot_size  Annual_yield Crop_type  \n",
       "0  6.859436         0.007034        3.6      1.617421    coffee  \n",
       "1  5.603219         0.289643        4.2      2.532497    potato  \n",
       "2  5.774116         0.000409        2.6      1.262207    banana  \n",
       "3  6.477415         0.088777        7.9      4.351564     wheat  \n",
       "4  5.419586         0.050023       10.8      5.034791   cassava  "
      ]
     },
     "execution_count": 3,
     "metadata": {},
     "output_type": "execute_result"
    }
   ],
   "source": [
    "MD_Agric= pd.read_csv('MD_agric_exam-4313.csv')\n",
    "MD_Agric.head(5)"
   ]
  },
  {
   "cell_type": "code",
   "execution_count": 4,
   "id": "dd6f8395",
   "metadata": {},
   "outputs": [
    {
     "name": "stdout",
     "output_type": "stream",
     "text": [
      "<class 'pandas.core.frame.DataFrame'>\n",
      "RangeIndex: 1000 entries, 0 to 999\n",
      "Data columns (total 10 columns):\n",
      " #   Column             Non-Null Count  Dtype  \n",
      "---  ------             --------------  -----  \n",
      " 0   Field_ID           1000 non-null   int64  \n",
      " 1   Elevation          1000 non-null   float64\n",
      " 2   Rainfall           1000 non-null   float64\n",
      " 3   Min_temperature_C  1000 non-null   float64\n",
      " 4   Max_temperature_C  1000 non-null   float64\n",
      " 5   pH                 1000 non-null   float64\n",
      " 6   Pollution_level    1000 non-null   float64\n",
      " 7   Plot_size          1000 non-null   float64\n",
      " 8   Annual_yield       1000 non-null   float64\n",
      " 9   Crop_type          1000 non-null   object \n",
      "dtypes: float64(8), int64(1), object(1)\n",
      "memory usage: 78.3+ KB\n"
     ]
    }
   ],
   "source": [
    "MD_Agric.info()"
   ]
  },
  {
   "cell_type": "code",
   "execution_count": 5,
   "id": "b42d8093",
   "metadata": {},
   "outputs": [
    {
     "data": {
      "text/html": [
       "<div>\n",
       "<style scoped>\n",
       "    .dataframe tbody tr th:only-of-type {\n",
       "        vertical-align: middle;\n",
       "    }\n",
       "\n",
       "    .dataframe tbody tr th {\n",
       "        vertical-align: top;\n",
       "    }\n",
       "\n",
       "    .dataframe thead th {\n",
       "        text-align: right;\n",
       "    }\n",
       "</style>\n",
       "<table border=\"1\" class=\"dataframe\">\n",
       "  <thead>\n",
       "    <tr style=\"text-align: right;\">\n",
       "      <th></th>\n",
       "      <th>Field_ID</th>\n",
       "      <th>Elevation</th>\n",
       "      <th>Rainfall</th>\n",
       "      <th>Min_temperature_C</th>\n",
       "      <th>Max_temperature_C</th>\n",
       "      <th>pH</th>\n",
       "      <th>Pollution_level</th>\n",
       "      <th>Plot_size</th>\n",
       "      <th>Annual_yield</th>\n",
       "    </tr>\n",
       "  </thead>\n",
       "  <tbody>\n",
       "    <tr>\n",
       "      <th>count</th>\n",
       "      <td>1000.000000</td>\n",
       "      <td>1000.000000</td>\n",
       "      <td>1000.000000</td>\n",
       "      <td>1000.000000</td>\n",
       "      <td>1000.00000</td>\n",
       "      <td>1000.000000</td>\n",
       "      <td>1.000000e+03</td>\n",
       "      <td>1000.000000</td>\n",
       "      <td>1000.000000</td>\n",
       "    </tr>\n",
       "    <tr>\n",
       "      <th>mean</th>\n",
       "      <td>2779.486000</td>\n",
       "      <td>628.136035</td>\n",
       "      <td>1197.734700</td>\n",
       "      <td>-4.504100</td>\n",
       "      <td>30.89460</td>\n",
       "      <td>5.603899</td>\n",
       "      <td>2.233740e-01</td>\n",
       "      <td>3.962400</td>\n",
       "      <td>2.101536</td>\n",
       "    </tr>\n",
       "    <tr>\n",
       "      <th>std</th>\n",
       "      <td>1595.068372</td>\n",
       "      <td>179.098546</td>\n",
       "      <td>497.794699</td>\n",
       "      <td>1.568117</td>\n",
       "      <td>1.92225</td>\n",
       "      <td>0.802154</td>\n",
       "      <td>2.288665e-01</td>\n",
       "      <td>3.459036</td>\n",
       "      <td>1.926694</td>\n",
       "    </tr>\n",
       "    <tr>\n",
       "      <th>min</th>\n",
       "      <td>1.000000</td>\n",
       "      <td>35.910797</td>\n",
       "      <td>110.100000</td>\n",
       "      <td>-9.700000</td>\n",
       "      <td>25.10000</td>\n",
       "      <td>3.701838</td>\n",
       "      <td>5.397448e-10</td>\n",
       "      <td>0.500000</td>\n",
       "      <td>0.174857</td>\n",
       "    </tr>\n",
       "    <tr>\n",
       "      <th>25%</th>\n",
       "      <td>1442.250000</td>\n",
       "      <td>504.392825</td>\n",
       "      <td>771.575000</td>\n",
       "      <td>-5.600000</td>\n",
       "      <td>29.57500</td>\n",
       "      <td>5.018775</td>\n",
       "      <td>4.449419e-02</td>\n",
       "      <td>1.500000</td>\n",
       "      <td>0.786612</td>\n",
       "    </tr>\n",
       "    <tr>\n",
       "      <th>50%</th>\n",
       "      <td>2728.500000</td>\n",
       "      <td>657.468975</td>\n",
       "      <td>1194.900000</td>\n",
       "      <td>-4.400000</td>\n",
       "      <td>30.90000</td>\n",
       "      <td>5.562078</td>\n",
       "      <td>1.661962e-01</td>\n",
       "      <td>2.900000</td>\n",
       "      <td>1.478622</td>\n",
       "    </tr>\n",
       "    <tr>\n",
       "      <th>75%</th>\n",
       "      <td>4133.000000</td>\n",
       "      <td>761.075752</td>\n",
       "      <td>1616.900000</td>\n",
       "      <td>-3.300000</td>\n",
       "      <td>32.20000</td>\n",
       "      <td>6.201437</td>\n",
       "      <td>3.077840e-01</td>\n",
       "      <td>4.700000</td>\n",
       "      <td>2.519811</td>\n",
       "    </tr>\n",
       "    <tr>\n",
       "      <th>max</th>\n",
       "      <td>5632.000000</td>\n",
       "      <td>1003.943700</td>\n",
       "      <td>2408.500000</td>\n",
       "      <td>-1.200000</td>\n",
       "      <td>37.30000</td>\n",
       "      <td>7.484683</td>\n",
       "      <td>9.954134e-01</td>\n",
       "      <td>15.000000</td>\n",
       "      <td>12.695224</td>\n",
       "    </tr>\n",
       "  </tbody>\n",
       "</table>\n",
       "</div>"
      ],
      "text/plain": [
       "          Field_ID    Elevation     Rainfall  Min_temperature_C  \\\n",
       "count  1000.000000  1000.000000  1000.000000        1000.000000   \n",
       "mean   2779.486000   628.136035  1197.734700          -4.504100   \n",
       "std    1595.068372   179.098546   497.794699           1.568117   \n",
       "min       1.000000    35.910797   110.100000          -9.700000   \n",
       "25%    1442.250000   504.392825   771.575000          -5.600000   \n",
       "50%    2728.500000   657.468975  1194.900000          -4.400000   \n",
       "75%    4133.000000   761.075752  1616.900000          -3.300000   \n",
       "max    5632.000000  1003.943700  2408.500000          -1.200000   \n",
       "\n",
       "       Max_temperature_C           pH  Pollution_level    Plot_size  \\\n",
       "count         1000.00000  1000.000000     1.000000e+03  1000.000000   \n",
       "mean            30.89460     5.603899     2.233740e-01     3.962400   \n",
       "std              1.92225     0.802154     2.288665e-01     3.459036   \n",
       "min             25.10000     3.701838     5.397448e-10     0.500000   \n",
       "25%             29.57500     5.018775     4.449419e-02     1.500000   \n",
       "50%             30.90000     5.562078     1.661962e-01     2.900000   \n",
       "75%             32.20000     6.201437     3.077840e-01     4.700000   \n",
       "max             37.30000     7.484683     9.954134e-01    15.000000   \n",
       "\n",
       "       Annual_yield  \n",
       "count   1000.000000  \n",
       "mean       2.101536  \n",
       "std        1.926694  \n",
       "min        0.174857  \n",
       "25%        0.786612  \n",
       "50%        1.478622  \n",
       "75%        2.519811  \n",
       "max       12.695224  "
      ]
     },
     "execution_count": 5,
     "metadata": {},
     "output_type": "execute_result"
    }
   ],
   "source": [
    "MD_Agric.describe()"
   ]
  },
  {
   "cell_type": "code",
   "execution_count": 12,
   "id": "6bbfbf10",
   "metadata": {},
   "outputs": [
    {
     "name": "stdout",
     "output_type": "stream",
     "text": [
      "Number of unique crop types: 8\n"
     ]
    }
   ],
   "source": [
    "unique_crop_types = MD_Agric['Crop_type'].unique()\n",
    "\n",
    "# Get the number of unique crop types\n",
    "num_unique_crop_types = len(unique_crop_types)\n",
    "\n",
    "print(\"Number of unique crop types:\", num_unique_crop_types)"
   ]
  },
  {
   "cell_type": "code",
   "execution_count": 14,
   "id": "9de29685",
   "metadata": {},
   "outputs": [
    {
     "name": "stdout",
     "output_type": "stream",
     "text": [
      "Maximum annual yield for wheat crop type: 8.99\n"
     ]
    }
   ],
   "source": [
    "# Filter the dataset to include only rows where crop_type is 'wheat'\n",
    "wheat_data = MD_Agric[ MD_Agric['Crop_type'] == 'wheat']\n",
    "\n",
    "# Find the maximum annual yield for wheat crop type\n",
    "max_yield_wheat = wheat_data['Annual_yield'].max() \n",
    "\n",
    "# Round the maximum annual yield to 2 decimal places\n",
    "max_yield_wheat_rounded = round(max_yield_wheat, 2)\n",
    "\n",
    "print(\"Maximum annual yield for wheat crop type:\", max_yield_wheat_rounded)"
   ]
  },
  {
   "cell_type": "markdown",
   "id": "a880e07f",
   "metadata": {},
   "source": [
    "Find the total rainfall for crop types where the average pollution level is above 0.2.\n"
   ]
  },
  {
   "cell_type": "code",
   "execution_count": 16,
   "id": "d2bb2dd9",
   "metadata": {},
   "outputs": [
    {
     "name": "stdout",
     "output_type": "stream",
     "text": [
      "Total rainfall for crop types with average pollution level above 0.2: 941959.7\n"
     ]
    }
   ],
   "source": [
    "# Calculate the average pollution level for each crop type\n",
    "average_pollution = MD_Agric.groupby('Crop_type')['Pollution_level'].mean()\n",
    "\n",
    "# Filter crop types where the average pollution level is above 0.2\n",
    "high_pollution_crop_types = average_pollution[average_pollution > 0.2].index\n",
    "\n",
    "# Filter the dataset to include only rows with crop types in high_pollution_crop_types\n",
    "filtered_data = MD_Agric[ MD_Agric['Crop_type'].isin(high_pollution_crop_types)]\n",
    "\n",
    "# Calculate the total rainfall for the filtered crop types\n",
    "total_rainfall = filtered_data['Rainfall'].sum()\n",
    "\n",
    "print(\"Total rainfall for crop types with average pollution level above 0.2:\", total_rainfall)"
   ]
  },
  {
   "cell_type": "markdown",
   "id": "659fd41e",
   "metadata": {},
   "source": [
    "Write a function to calculate the temperature range (Max_temperature_C - Min_temperature_C) for each farmer's field. Then, call the function with the following `Field_ID`: `1458`, `1895`, and `5443`. What are the results of these 3 calls?"
   ]
  },
  {
   "cell_type": "code",
   "execution_count": 17,
   "id": "4a7b6e50",
   "metadata": {},
   "outputs": [
    {
     "name": "stdout",
     "output_type": "stream",
     "text": [
      "Results:\n",
      "Field ID: 1458, Temperature Range: 40.7°C\n",
      "Field ID: 1895, Temperature Range: 35.7°C\n",
      "Field ID: 5443, Temperature Range: 33.4°C\n"
     ]
    }
   ],
   "source": [
    "def calculate_temperature_range(field_id):\n",
    "   \n",
    "    # Filter the dataset for the given Field_ID\n",
    "    field_data = MD_Agric[MD_Agric['Field_ID'] == field_id]\n",
    "    \n",
    "    if field_data.empty:\n",
    "        return f\"No data found for Field_ID {field_id}\"\n",
    "    \n",
    "    # Calculate the temperature range (Max_temperature_C - Min_temperature_C)\n",
    "    temperature_range = field_data['Max_temperature_C'].max() - field_data['Min_temperature_C'].min()\n",
    "    \n",
    "    return temperature_range\n",
    "\n",
    "# Call the function with the given Field_IDs\n",
    "field_ids = [1458, 1895, 5443]\n",
    "results = {}\n",
    "\n",
    "for field_id in field_ids:\n",
    "    results[field_id] = calculate_temperature_range(field_id)\n",
    "\n",
    "print(\"Results:\")\n",
    "for field_id, result in results.items():\n",
    "    print(f\"Field ID: {field_id}, Temperature Range: {result}°C\")\n"
   ]
  },
  {
   "cell_type": "markdown",
   "id": "dbec69a9",
   "metadata": {},
   "source": [
    "Write code to calculate the total plot size for plots where the pH is less than 5.5."
   ]
  },
  {
   "cell_type": "code",
   "execution_count": 18,
   "id": "bee83a6d",
   "metadata": {},
   "outputs": [
    {
     "name": "stdout",
     "output_type": "stream",
     "text": [
      "Total plot size for plots where pH is less than 5.5: 1731.8999999999999\n"
     ]
    }
   ],
   "source": [
    "# Filter the dataset for plots where pH is less than 5.5\n",
    "filtered_data = MD_Agric[MD_Agric['pH'] < 5.5]\n",
    "\n",
    "# Calculate the total plot size for the filtered plots\n",
    "total_plot_size = filtered_data['Plot_size'].sum()\n",
    "\n",
    "print(\"Total plot size for plots where pH is less than 5.5:\", total_plot_size)"
   ]
  },
  {
   "cell_type": "markdown",
   "id": "f3d843e7",
   "metadata": {},
   "source": [
    "Using Pandas, create a dataframe that includes entries with a 'Min_temperature_C’< -5 and a 'Max_temperature_C' > 30. How many rows are in the filtered dataset?"
   ]
  },
  {
   "cell_type": "code",
   "execution_count": 19,
   "id": "60a1e104",
   "metadata": {},
   "outputs": [
    {
     "name": "stdout",
     "output_type": "stream",
     "text": [
      "Number of rows in the filtered dataset: 319\n"
     ]
    }
   ],
   "source": [
    "# Filter the dataset for entries with 'Min_temperature_C' < -5 and 'Max_temperature_C' > 30\n",
    "filtered_data = MD_Agric[(MD_Agric['Min_temperature_C'] < -5) & (MD_Agric['Max_temperature_C'] > 30)]\n",
    "\n",
    "# Get the number of rows in the filtered dataset\n",
    "num_rows_filtered = len(filtered_data)\n",
    "\n",
    "print(\"Number of rows in the filtered dataset:\", num_rows_filtered)"
   ]
  },
  {
   "cell_type": "markdown",
   "id": "d910b67c",
   "metadata": {},
   "source": [
    "Using Numpy, calculate the standard deviation of the 'Rainfall' for plots where the 'Plot_size' is larger than the median plot size of the dataset (round to 2 decimal places).\n",
    "\n"
   ]
  },
  {
   "cell_type": "code",
   "execution_count": 21,
   "id": "037d53a0",
   "metadata": {},
   "outputs": [
    {
     "name": "stdout",
     "output_type": "stream",
     "text": [
      "Standard deviation of Rainfall for plots where Plot_size is larger than the median plot size: 469.62\n"
     ]
    }
   ],
   "source": [
    "# Calculate the median plot size\n",
    "median_plot_size = MD_Agric['Plot_size'].median()\n",
    "\n",
    "# Filter the dataset for plots where the plot size is larger than the median plot size\n",
    "filtered_data = MD_Agric[MD_Agric['Plot_size'] > median_plot_size]\n",
    "\n",
    "# Calculate the standard deviation of rainfall for the filtered plots\n",
    "rainfall_std_dev = np.std(filtered_data['Rainfall'])\n",
    "\n",
    "# Round the result to 2 decimal places\n",
    "rainfall_std_dev_rounded = round(rainfall_std_dev, 2)\n",
    "\n",
    "print(\"Standard deviation of Rainfall for plots where Plot_size is larger than the median plot size:\",\n",
    "      rainfall_std_dev_rounded)"
   ]
  },
  {
   "cell_type": "markdown",
   "id": "23e2db86",
   "metadata": {},
   "source": [
    "If you concatenate the first three digits of the most common ‘Max_temperature_C’ with the last three letters of the least common 'Crop_type', what string do you get?\n",
    "Note: Use the first mode if there are multiple modes"
   ]
  },
  {
   "cell_type": "code",
   "execution_count": 22,
   "id": "a3eb221d",
   "metadata": {},
   "outputs": [
    {
     "name": "stdout",
     "output_type": "stream",
     "text": [
      "Resulting string: 30.ice\n"
     ]
    }
   ],
   "source": [
    "\n",
    "# Find the most common Max_temperature_C\n",
    "most_common_max_temp = MD_Agric['Max_temperature_C'].mode().iloc[0]  # Use iloc[0] to get the first mode if multiple modes exist\n",
    "\n",
    "# Find the least common Crop_type\n",
    "least_common_crop_type = MD_Agric['Crop_type'].value_counts().idxmin()\n",
    "\n",
    "# Concatenate the first three digits of the most common Max_temperature_C with the last three letters of the least common Crop_type\n",
    "result_string = str(most_common_max_temp)[:3] + least_common_crop_type[-3:]\n",
    "\n",
    "print(\"Resulting string:\", result_string)"
   ]
  },
  {
   "cell_type": "markdown",
   "id": "75ff1f77",
   "metadata": {},
   "source": [
    "Write Python code to create a violin plot visualising the distribution of 'Annual_yield' across different 'Elevation' ranges. Use the provided elevation range categories (Low: < 300m, Medium: 300m - 600m, High: > 600m) to categorise the data before plotting.  Examine the violin plot displaying the distribution of 'Annual Yield' across three elevation categories (Low, Medium, High). What insight does the violin plot provide regarding the relationship between elevation ranges and annual yield distribution?"
   ]
  },
  {
   "cell_type": "code",
   "execution_count": 24,
   "id": "2c40cf7d",
   "metadata": {},
   "outputs": [
    {
     "data": {
      "image/png": "[encoded data removed]",
      "text/plain": [
       "<Figure size 1000x600 with 1 Axes>"
      ]
     },
     "metadata": {},
     "output_type": "display_data"
    }
   ],
   "source": [
    "# Define elevation range categories\n",
    "def categorize_elevation(elevation):\n",
    "    if elevation < 300:\n",
    "        return 'Low'\n",
    "    elif 300 <= elevation <= 600:\n",
    "        return 'Medium'\n",
    "    else:\n",
    "        return 'High'\n",
    "\n",
    "# Apply elevation categorization to the dataset\n",
    "MD_Agric['Elevation_category'] = MD_Agric['Elevation'].apply(categorize_elevation)\n",
    "\n",
    "# Create violin plot\n",
    "plt.figure(figsize=(10, 6))\n",
    "sns.violinplot(x='Elevation_category', y='Annual_yield', data=MD_Agric)\n",
    "plt.title('Distribution of Annual Yield Across Elevation Ranges')\n",
    "plt.xlabel('Elevation Range')\n",
    "plt.ylabel('Annual Yield')\n",
    "plt.show()"
   ]
  },
  {
   "cell_type": "markdown",
   "id": "0a68f439",
   "metadata": {},
   "source": [
    "Assuming each 'Crop_type' contributes an integer value equal to its length (e.g., 'wheat' contributes 5), write a recursive function to sum the integer values for each unique crop type in the dataset. What is the sum?"
   ]
  },
  {
   "cell_type": "code",
   "execution_count": 27,
   "id": "5c1a1fb1",
   "metadata": {},
   "outputs": [
    {
     "name": "stdout",
     "output_type": "stream",
     "text": [
      "Total sum of integer values for each unique crop type: 42\n"
     ]
    }
   ],
   "source": [
    "def sum_crop_type_lengths(data, index=0, unique_crops=None):\n",
    "    if unique_crops is None:\n",
    "        unique_crops = set(data['Crop_type'].unique())\n",
    "    \n",
    "    # Base case: If all unique crop types have been processed, return 0\n",
    "    if index >= len(unique_crops):\n",
    "        return 0\n",
    "    \n",
    "    # Get the current crop type\n",
    "    current_crop = list(unique_crops)[index]\n",
    "    \n",
    "    # Calculate the length of the current crop type and add it to the sum\n",
    "    crop_length = len(current_crop)\n",
    "    \n",
    "    # Recursively sum the lengths of the remaining crop types\n",
    "    remaining_sum = sum_crop_type_lengths(data, index + 1, unique_crops)\n",
    "    \n",
    "    return crop_length + remaining_sum\n",
    "\n",
    "# Call the recursive function to calculate the sum\n",
    "total_sum = sum_crop_type_lengths(MD_Agric)\n",
    "\n",
    "print(\"Total sum of integer values for each unique crop type:\", total_sum)"
   ]
  },
  {
   "cell_type": "markdown",
   "id": "76900503",
   "metadata": {},
   "source": [
    "Write Python code to perform a t-test comparing the average 'Annual_yield' between 'coffee' and 'banana' crop types using scipy.stats. What is the p-value, rounded to three decimal places?"
   ]
  },
  {
   "cell_type": "code",
   "execution_count": 29,
   "id": "e7b98941",
   "metadata": {},
   "outputs": [
    {
     "name": "stdout",
     "output_type": "stream",
     "text": [
      "p-value: 0.598\n"
     ]
    }
   ],
   "source": [
    "from scipy.stats import ttest_ind\n",
    "\n",
    "# Filter the dataset for 'coffee' and 'banana' crop types\n",
    "coffee_data = MD_Agric[MD_Agric['Crop_type'] == 'coffee']['Annual_yield']\n",
    "banana_data = MD_Agric[MD_Agric['Crop_type'] == 'banana']['Annual_yield']\n",
    "\n",
    "# Perform t-test\n",
    "t_statistic, p_value = ttest_ind(coffee_data, banana_data, equal_var=False)\n",
    "\n",
    "# Print p-value rounded to three decimal places\n",
    "print(\"p-value:\", round(p_value, 3))"
   ]
  },
  {
   "cell_type": "code",
   "execution_count": null,
   "id": "57b0ba33",
   "metadata": {},
   "outputs": [],
   "source": []
  }
 ],
 "metadata": {
  "kernelspec": {
   "display_name": "Python 3 (ipykernel)",
   "language": "python",
   "name": "python3"
  },
  "language_info": {
   "codemirror_mode": {
    "name": "ipython",
    "version": 3
   },
   "file_extension": ".py",
   "mimetype": "text/x-python",
   "name": "python",
   "nbconvert_exporter": "python",
   "pygments_lexer": "ipython3",
   "version": "3.11.5"
  }
 },
 "nbformat": 4,
 "nbformat_minor": 5
}
